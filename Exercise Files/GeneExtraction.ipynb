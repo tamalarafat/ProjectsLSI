{
 "cells": [
  {
   "cell_type": "code",
   "execution_count": 2,
   "metadata": {},
   "outputs": [],
   "source": [
    "#extracts all genes, \n",
    "def extractGenes(file):\n",
    "    import re\n",
    "    gene=list()\n",
    "    newGeneList=list()\n",
    "    for line in file:\n",
    "        #if not (line.startswith(\"#\") or line == \"\\n\" or line.startswith(\"SET\")):\n",
    "        if \"HGNC\" in line or \"MGI:\" in line or \"RGD:\" in line:\n",
    "            lookFor = '(HGNC:|MGI:|RGD:)(.+?)[\\)|,]'\n",
    "            #lookFor = 'HGNC:(.+?)[\\)|,]'\n",
    "            #m is a list of size [n][n] where\n",
    "            m=re.findall(lookFor,line)\n",
    "            i=0\n",
    "            #while i<len(m):\n",
    "            while i in range(len(m)):\n",
    "               gene.append(m[i][1])\n",
    "               i=i+1\n",
    "#2nd way to write a list to file, see ExtractGenes for another way!\n",
    "    for item in gene:\n",
    "        if (\"\\\"\") in item:\n",
    "            newItem=re.sub(\"\\\"\",\"\",item)\n",
    "            item=newItem\n",
    "        if item.startswith(\" \"):\n",
    "            newItem2=re.sub(\" \",\"\",item)\n",
    "            item=newItem2    \n",
    "        if item not in newGeneList:\n",
    "            newGeneList.append(item)\n",
    "    for gene in sorted(newGeneList):\n",
    "        fout.write(\"%s\\n\" % gene)\n",
    "            \n",
    "            \n",
    "fout=open(\"C:/Users/Tamal/Documents/2nd Semester/System Biology Lab/Bel_Gene_file_main.txt\",\"w\")            \n",
    "fin=open(\"C:/Users/Tamal/workspaceIndigo/Tamal_Umesh/Documents/BelFl.bel\")\n",
    "extractGenes(fin)\n",
    "fout.close()\n",
    "fin.close()"
   ]
  },
  {
   "cell_type": "code",
   "execution_count": null,
   "metadata": {
    "collapsed": true
   },
   "outputs": [],
   "source": []
  }
 ],
 "metadata": {
  "kernelspec": {
   "display_name": "Python 3",
   "language": "python",
   "name": "python3"
  },
  "language_info": {
   "codemirror_mode": {
    "name": "ipython",
    "version": 3
   },
   "file_extension": ".py",
   "mimetype": "text/x-python",
   "name": "python",
   "nbconvert_exporter": "python",
   "pygments_lexer": "ipython3",
   "version": "3.5.5"
  }
 },
 "nbformat": 4,
 "nbformat_minor": 1
}
