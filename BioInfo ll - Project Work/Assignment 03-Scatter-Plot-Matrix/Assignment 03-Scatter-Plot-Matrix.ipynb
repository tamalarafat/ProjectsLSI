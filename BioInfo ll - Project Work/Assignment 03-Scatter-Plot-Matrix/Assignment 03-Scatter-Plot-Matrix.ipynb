{
 "cells": [
  {
   "cell_type": "code",
   "execution_count": null,
   "metadata": {
    "collapsed": false
   },
   "outputs": [],
   "source": [
    "# Answer a:\n",
    "\n",
    "import pandas as pd;\n",
    "xl=pd.ExcelFile(\"C:\\\\Users\\\\Tamal\\\\Documents\\\\3rd Semester\\\\Bioinfo ll\\OutPuts\\\\m_data_1.xls\")\n",
    "df=xl.parse(\"Sheet1\")\n",
    "tmp=df[df['class'].isin(['ckd', 'notckd'])]\n",
    "data=tmp[['hemo', 'pcv', 'sg', 'rbcc','al','class']]\n",
    "data"
   ]
  },
  {
   "cell_type": "code",
   "execution_count": null,
   "metadata": {
    "collapsed": false
   },
   "outputs": [],
   "source": [
    "#Answer b \n",
    "\n",
    "import numpy as np;\n",
    "byclass=data.groupby(\"class\")\n",
    "byclass.mean()\n"
   ]
  },
  {
   "cell_type": "code",
   "execution_count": null,
   "metadata": {
    "collapsed": false
   },
   "outputs": [],
   "source": [
    "intra_dist_cal=lambda x: abs(x - x.mean())\n",
    "within_dist=byclass.transform(intra_dist_cal)\n",
    "within_dist"
   ]
  },
  {
   "cell_type": "code",
   "execution_count": null,
   "metadata": {
    "collapsed": false
   },
   "outputs": [],
   "source": [
    "# Answer c:\n",
    "\n",
    "\n",
    "protein=['hemo', 'pcv', 'rbcc', 'al']\n",
    "cls=['ckd', 'notckd']\n",
    "dist=dict()\n",
    "for c in cls:\n",
    "    pro=list()\n",
    "    for p in protein:\n",
    "        func=lambda x: abs(x-byclass.mean().ix[c,p])\n",
    "        pro.append(data[p].apply(func))\n",
    "    dist[c]=(pd.DataFrame(pro).transpose())\n",
    "ckd=dist['ckd']\n",
    "notckd=dist['notckd']\n",
    "ckd.head()\n",
    "notckd.head()"
   ]
  },
  {
   "cell_type": "code",
   "execution_count": null,
   "metadata": {
    "collapsed": false
   },
   "outputs": [],
   "source": [
    "get_ipython().magic('matplotlib inline')\n",
    "import seaborn as sns\n",
    "import pylab\n",
    "from sklearn import *\n",
    "from scipy.stats import gaussian_kde\n",
    "import math\n",
    "from itertools import combinations\n",
    "data=pd.read_excel(\"C:\\\\Users\\\\Tamal\\\\Documents\\\\3rd Semester\\\\Bioinfo ll\\OutPuts\\\\m_data_1.xls\",index_col=0)\n",
    "factor=data['class']\n",
    "classes=list(set(factor))\n",
    "palette=['#e41a1c', '#377eb8']\n",
    "color_map = dict(zip(classes,palette))\n",
    "colors = factor.apply(lambda group: color_map[group])\n",
    "\n",
    "def distance_consistency(cs_x,cs_y,avgX,avgY,outlierCS,index):\n",
    "    for i in range(len(cs_x)):\n",
    "        distanceCS = math.hypot(cs_x[i] - avgX[index], cs_y[i] - avgY[index])\n",
    "        for counter in range(1, len(avgX)):\n",
    "            distance_other_CS = math.hypot(cs_x[i] - avgX[counter], cs_y[i] - avgY[counter])                    \n",
    "            if distance_other_CS < distanceCS: \n",
    "                outlierCS += 1\n",
    "                break\n",
    "            else: continue\n",
    "    num= float(len(cs_x)-outlierCS)\n",
    "    denom = float(len(cs_x))\n",
    "    return((num/denom*(100)))\n",
    "for rc in range(len(data.columns[0:5])):\n",
    "    for group in classes:\n",
    "        y = data[data['class'] == group].icol(rc).values\n",
    "        ind = np.linspace(y.min(), y.max(),400)\n",
    "\n",
    "    for r in range(len(data.columns[0:5])):\n",
    "        if (rc != r):\n",
    "            avgX=[]\n",
    "            avgY=[]\n",
    "            for group in classes:\n",
    "                y = data[data['class'] == group].icol(rc).values\n",
    "                x = data[data['class'] == group].icol(r).values\n",
    "               \n",
    "                if group == 'ckd':\n",
    "                    avgX.append(np.average(x))\n",
    "                    avgY.append(np.average(y))\n",
    "                    cs_x=x\n",
    "                    cs_y=y\n",
    "                \n",
    "               \n",
    "                if group == 'notckd':\n",
    "                    avgX.append(np.average(x))\n",
    "                    avgY.append(np.average(y))\n",
    "                    ts_x=x\n",
    "                    ts_y=y\n",
    "            print(avgX, avgY)\n",
    "            \n",
    "            outlierCKD = 0\n",
    "            outlierNOTCKD = 0\n",
    "            if (rc,r) in [(comb) for comb in combinations(range(5), 2)]:\n",
    "                print('Distance consistency for:' +str(data.columns[rc])+\" vs \"+ str(data.columns[r]))\n",
    "                ckd=distance_consistency(cs_x,cs_y,avgX,avgY,outlierCKD,0)\n",
    "                notckd=distance_consistency(ts_x,ts_y,avgX,avgY,outlierNOTCKD,1)\n",
    "                \n",
    "                tot=(ckd+notckd)/2\n",
    "                \n",
    "                print(str(tot) +'%')\n"
   ]
  },
  {
   "cell_type": "code",
   "execution_count": null,
   "metadata": {
    "collapsed": false
   },
   "outputs": [],
   "source": [
    "# Question d:\n",
    "\n",
    "get_ipython().magic('matplotlib inline')\n",
    "import seaborn as sns\n",
    "import matplotlib.pyplot as plt\n",
    "sns.set(style=\"white\")\n",
    "sns.set_palette(\"husl\")\n",
    "sns.set_style({'legend.frameon': True})\n",
    "g = sns.PairGrid(data,hue=\"class\",hue_kws={\"marker\": [\"D\",\"^\"]})\n",
    "# g.map_diag(sns.kdeplot)\n",
    "g.map_offdiag(plt.scatter);\n",
    "g.add_legend()\n",
    "g.fig.subplots_adjust(top=0.9)\n",
    "g.fig.suptitle('Identify CKD or NOTCKD',size=16)\n",
    "g.fig.savefig('C:\\\\Users\\\\Tamal\\\\Documents\\\\3rd Semester\\\\Bioinfo ll\\OutPuts\\\\scatter matrix for 1d.png')\n",
    "\n"
   ]
  },
  {
   "cell_type": "code",
   "execution_count": null,
   "metadata": {
    "collapsed": true
   },
   "outputs": [],
   "source": []
  }
 ],
 "metadata": {
  "kernelspec": {
   "display_name": "Python 3",
   "language": "python",
   "name": "python3"
  },
  "language_info": {
   "codemirror_mode": {
    "name": "ipython",
    "version": 3
   },
   "file_extension": ".py",
   "mimetype": "text/x-python",
   "name": "python",
   "nbconvert_exporter": "python",
   "pygments_lexer": "ipython3",
   "version": "3.5.1"
  }
 },
 "nbformat": 4,
 "nbformat_minor": 0
}
