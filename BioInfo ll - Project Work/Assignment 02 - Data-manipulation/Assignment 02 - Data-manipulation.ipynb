{
 "cells": [
  {
   "cell_type": "code",
   "execution_count": 6,
   "metadata": {
    "collapsed": false
   },
   "outputs": [
    {
     "name": "stdout",
     "output_type": "stream",
     "text": [
      "Dimension of entire data\n",
      "(400, 25)\n",
      "row names of data\n",
      "RangeIndex(start=0, stop=400, step=1)\n",
      "col names of data\n",
      "['age', 'bp', 'sg', 'al', 'su', 'rbc', 'pc', 'pcc', 'ba', 'bgr ', 'bu', 'sc', 'sod', 'pot', 'hemo', 'pcv', 'wbcc', 'rbcc', 'htn', 'dm', 'cad', 'appet', 'pe', 'ane', 'class']\n",
      "Number of Instances of subgroup CKD\n",
      "(250, 25)\n",
      "Number of Instances of subgroup NOTCKD\n",
      "(150, 25)\n",
      "The five attributes that best separate the classes CKD vs. notCKD\n",
      "hemo    1.637702\n",
      "pcv     1.378568\n",
      "sg      1.363346\n",
      "rbcc    1.101618\n",
      "al      0.838210\n",
      "sod     0.223458\n",
      "bu      0.220174\n",
      "su      0.176079\n",
      "sc      0.130827\n",
      "bp      0.102276\n",
      "wbcc    0.063686\n",
      "age     0.061674\n",
      "bgr     0.045101\n",
      "pot     0.005492\n",
      "dtype: float64\n"
     ]
    },
    {
     "name": "stderr",
     "output_type": "stream",
     "text": [
      "C:\\Users\\Tamal\\Anaconda3\\lib\\site-packages\\ipykernel\\__main__.py:59: FutureWarning: sort is deprecated, use sort_values(inplace=True) for INPLACE sorting\n"
     ]
    }
   ],
   "source": [
    "import pandas as pd\n",
    "\n",
    "\n",
    "#Answer a Task 2\n",
    "df=pd.read_excel(\"chronic_kidney_disease_full.xls\",index_col=None)\n",
    "#Column (0-indexed) to use as the row labels of the DataFrame. Pass None if there is no such column. If a list is passed, those columns will \n",
    "#be combined into a MultiIndex\n",
    "\n",
    "#dimension\n",
    "print('Dimension of entire data')\n",
    "print(df.shape) #Return a tuple representing the dimensionality of the DataFrame.\n",
    "\n",
    "#row names\n",
    "print('row names of data')\n",
    "print(df.index) #Index to use for resulting frame. Will default to np.arange(n) if no indexing information part of input data and no index provided\n",
    "\n",
    "#column names\n",
    "print('col names of data')\n",
    "print(list(df))\n",
    "#----------------------------------\n",
    "\n",
    "#Answer c Task 2\n",
    "data=df.interpolate(method=\"linear\") #‘linear’: ignore the index and treat the values as equally spaced. This is the only method supported on MultiIndexes. default\n",
    "#Fill NA/NaN values using the specified method\n",
    "#Method to use for filling holes in reindexed Series pad / ffill: propagate last valid observation forward to next valid \n",
    "#backfill / bfill: use NEXT valid observation to fill gap\n",
    "data=data.fillna(method='pad')\n",
    "data=data.fillna(method='backfill')\n",
    "#----------------------------------\n",
    "\n",
    "#Answer d Task 2\n",
    "ckd=data[data['class']=='ckd']\n",
    "notckd=data[data['class']=='notckd']\n",
    "print('Number of Instances of subgroup CKD' )\n",
    "print(ckd.shape)\n",
    "\n",
    "print('Number of Instances of subgroup NOTCKD' )\n",
    "print(notckd.shape)\n",
    "#-------------------------------------\n",
    "\n",
    "#Answer b Task 2\n",
    "data_converted = data.replace(['normal', 'abnormal', 'yes', 'no', 'present', 'notpresent', 'good', 'poor', 'ckd', 'notckd'], [1, 0, 1, 0, 1, 0, 1, 0, 1, 0])\n",
    "#print(data_converted)\n",
    "#-------------------------------------\n",
    "\n",
    "#Answer e Task 2\n",
    "def compute_F(group1,group2):\n",
    "#compute mean\n",
    "    x1=group1.mean()\n",
    "    x2=group2.mean()\n",
    "    \n",
    "#compute grand mean\n",
    "    x=(x1+x2)/2\n",
    "    \n",
    "#compute varaince\n",
    "    var_x1=group1.var()\n",
    "    var_x2=group2.var()\n",
    "    f=((x1-x)**2+(x2-x)**2)/(var_x1+var_x2)\n",
    "    f.sort(ascending=0)\n",
    "    return(f)\n",
    "\n",
    "#Calling the function\n",
    "F=compute_F(ckd,notckd)\n",
    "print('The five attributes that best separate the classes CKD vs. notCKD')\n",
    "print(F)\n",
    "#------------------------------------\n",
    "\n",
    "#Answer f Task 2\n",
    "result = data[['hemo', 'pcv', 'sg', 'rbcc', 'al']]\n",
    "#print(result)\n",
    "\n",
    "#Writing Reduced Dataset to Disk\n",
    "result.to_excel(\"C:\\\\Users\\\\Tamal\\\\Documents\\\\3rd Semester\\\\Bioinfo ll\\OutPuts\\\\m_data.xls\", encoding='utf-8')\n",
    "\n",
    "result_with_class = data[['hemo', 'pcv', 'sg', 'rbcc', 'al', 'class']]\n",
    "result_with_class.to_excel(\"C:\\\\Users\\\\Tamal\\\\Documents\\\\3rd Semester\\\\Bioinfo ll\\OutPuts\\\\m_data_1.xls\", encoding='utf-8')\n",
    "\n"
   ]
  },
  {
   "cell_type": "code",
   "execution_count": null,
   "metadata": {
    "collapsed": true
   },
   "outputs": [],
   "source": []
  }
 ],
 "metadata": {
  "kernelspec": {
   "display_name": "Python 3",
   "language": "python",
   "name": "python3"
  },
  "language_info": {
   "codemirror_mode": {
    "name": "ipython",
    "version": 3
   },
   "file_extension": ".py",
   "mimetype": "text/x-python",
   "name": "python",
   "nbconvert_exporter": "python",
   "pygments_lexer": "ipython3",
   "version": "3.5.1"
  }
 },
 "nbformat": 4,
 "nbformat_minor": 0
}
