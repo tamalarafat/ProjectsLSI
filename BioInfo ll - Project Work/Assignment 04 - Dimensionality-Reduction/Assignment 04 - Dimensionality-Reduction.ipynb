{
 "cells": [
  {
   "cell_type": "code",
   "execution_count": null,
   "metadata": {
    "collapsed": false
   },
   "outputs": [],
   "source": [
    "#Task 4\n",
    "\n",
    "import pandas as pd\n",
    "import numpy as np\n",
    "import matplotlib.pyplot as plt\n",
    "from pandas.tools.plotting import scatter_matrix\n",
    "from sklearn.decomposition import PCA\n",
    "from sklearn import decomposition\n",
    "#loading data\n",
    "Mydata=pd.read_excel('chronic_kidney_disease_full.xls')\n",
    "\n",
    "#interpolating missing values\n",
    "Mydata=Mydata.interpolate(method=\"linear\")\n",
    "Mydata=Mydata.fillna(method='pad')\n",
    "Mydata=Mydata.fillna(method='backfill')\n"
   ]
  },
  {
   "cell_type": "code",
   "execution_count": null,
   "metadata": {
    "collapsed": false
   },
   "outputs": [],
   "source": [
    "#Part a:Performing Principal component analysis \n",
    "\n",
    "#determining classes\n",
    "list_Classes=['notckd','ckd'] \n",
    "Mydata=Mydata.loc[Mydata['class'].isin(list_Classes)]\n",
    "\n",
    "#making a copy of actual data set and removing nominal attribues\n",
    "numericaldata=Mydata\n",
    "numericaldata=numericaldata.drop(['rbc','pc','pcc','ba','htn','dm','cad','appet','pe','ane','class'],axis=1)\n",
    "#performing PCA\n",
    "pca=PCA(n_components=len(numericaldata.columns))\n",
    "pca_final_result=pca.fit_transform(numericaldata)\n",
    "\n",
    "#plotting: showing fraction of the overall variance contained in n principal components\n",
    "list_Var_A=np.cumsum(np.round(pca.explained_variance_ratio_, decimals=4)*100)\n",
    "index_A = np.arange(len(pca.explained_variance_ratio_))\n",
    "plt.figure(figsize=(9, 3))\n",
    "plt.title(\"Fraction of the overall variance in the data\")\n",
    "plt.xlabel(\"Components numbers\")\n",
    "plt.ylabel(\"Cumulative Explained Variance\")\n",
    "plt.plot(index_A,list_Var_A, 'bo-')\n",
    "plt.ylim(99.80, 100)\n",
    "plt.savefig(\"C:\\\\Users\\\\Tamal\\\\Documents\\\\3rd Semester\\\\Bioinfo ll\\OutPuts\\\\MyPlot.png\")\n",
    "\n",
    "#How many components needed to cover >=99.99% of the variance\n",
    "component=0\n",
    "for i in range(len(list_Var_A)):\n",
    "    if list_Var_A[i]>=99.99:\n",
    "        component=i\n",
    "        break\n",
    "print (str(component+1)+\" components needed to cover 99.99% of the variance\")"
   ]
  },
  {
   "cell_type": "code",
   "execution_count": null,
   "metadata": {
    "collapsed": false
   },
   "outputs": [],
   "source": [
    "#Part b: creating a scatter plot matrix with first five principal components\n",
    "#!pip install seaborn #using seaborn as a visualization library\n",
    "five_components=pca_final_result[:,:5]\n",
    "five_comp_df = pd.DataFrame(five_components, columns=['1-PC', '2-PC', '3-PC', '4-PC','5-PC'])\n",
    "five_comp_df\n",
    "import seaborn as sns;\n",
    "sns.set(style=\"ticks\", color_codes=True)\n",
    "five_comp_df['class']=list(Mydata['class'])\n",
    "g = sns.pairplot(five_comp_df,hue='class') #creating the plot\n",
    "plt.savefig(\"C:\\\\Users\\\\Tamal\\\\Documents\\\\3rd Semester\\\\Bioinfo ll\\OutPuts\\\\myScatterPlot.png\")"
   ]
  },
  {
   "cell_type": "code",
   "execution_count": null,
   "metadata": {
    "collapsed": false,
    "scrolled": true
   },
   "outputs": [],
   "source": [
    "#Part c: Detect outliers\n",
    "Mydata['ID'] = Mydata.index\n",
    "def Outliers_detector(five_components):\n",
    "    ID=[]\n",
    "    data=five_components[:,2] \n",
    "    box=plt.boxplot(data)\n",
    "    outliers=box[\"fliers\"][0].get_data()[1]\n",
    "    ID=np.in1d(data.ravel(),outliers)\n",
    "    return ID\n",
    "\n",
    "list_Indices=Outliers_detector(five_components)\n",
    "outlier_IDs=Mydata.loc[list_Indices]['ID']\n",
    "print (\"List of outlier IDs: \"+str(outlier_IDs))"
   ]
  },
  {
   "cell_type": "code",
   "execution_count": null,
   "metadata": {
    "collapsed": false
   },
   "outputs": [],
   "source": [
    "#Part d: normalizing data \n",
    "nomalized_data = pd.DataFrame({col: (numericaldata[col] - numericaldata[col].min()) / (numericaldata[col].max() - numericaldata[col].min())\n",
    "                               for col in numericaldata.columns})\n",
    "#doing the PCA analysis\n",
    "nomalized_PCA = decomposition.PCA()\n",
    "nomalized_PCA.fit(nomalized_data)\n",
    "#print(nomalized_data)\n",
    "#creating the plot\n",
    "plt.title(\"PCA on Normalized Data\")\n",
    "plt.xlabel(\"Number Components\")\n",
    "plt.ylabel(\"Cumulative Explained Variance\")\n",
    "plt.plot(np.cumsum(nomalized_PCA.explained_variance_ratio_), 'bo-')\n",
    "plt.savefig(\"C:\\\\Users\\\\Tamal\\\\Documents\\\\3rd Semester\\\\Bioinfo ll\\OutPuts\\\\nomalized_PCAPlot.png\")"
   ]
  }
 ],
 "metadata": {
  "kernelspec": {
   "display_name": "Python 3",
   "language": "python",
   "name": "python3"
  },
  "language_info": {
   "codemirror_mode": {
    "name": "ipython",
    "version": 3
   },
   "file_extension": ".py",
   "mimetype": "text/x-python",
   "name": "python",
   "nbconvert_exporter": "python",
   "pygments_lexer": "ipython3",
   "version": "3.5.1"
  }
 },
 "nbformat": 4,
 "nbformat_minor": 0
}
