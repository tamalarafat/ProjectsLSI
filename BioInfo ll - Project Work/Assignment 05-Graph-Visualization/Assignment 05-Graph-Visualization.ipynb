{
 "cells": [
  {
   "cell_type": "code",
   "execution_count": null,
   "metadata": {
    "collapsed": false
   },
   "outputs": [],
   "source": [
    "# Answer a\n",
    "\n",
    "import pandas as pd\n",
    "import numpy as np\n",
    "from scipy.stats import pearsonr\n",
    "data1=pd.read_excel(\"C:\\\\Users\\\\Tamal\\\\Documents\\\\3rd Semester\\\\Bioinfo ll\\OutPuts\\\\m_data_1.xls\",index_col=0)\n",
    "\n",
    "#remove missing values\n",
    "data=data1.interpolate(method=\"linear\")\n",
    "data=data.fillna(method='pad')\n",
    "data=data.fillna(method='backfill')\n",
    "#filter data\n",
    "tmp=data[data['class'].isin(['ckd','notckd'])]\n",
    "print('hemo vs pcv:'+str(pearsonr(data1.hemo,data1.pcv)[0]))\n",
    "print('hemo vs sg:'+str(pearsonr(data1.hemo,data1.sg)[0]))\n",
    "print('hemo vs rbcc:'+str(pearsonr(data1.hemo,data1.rbcc)[0]))\n",
    "print('pcv vs sg:'+str(pearsonr(data1.pcv,data1.sg)[0]))\n",
    "print('pcv vs rbcc:'+str(pearsonr(data1.pcv,data1.rbcc)[0]))\n",
    "print('sg vs rbcc:'+str(pearsonr(data1.sg,data1.rbcc)[0]))\n"
   ]
  },
  {
   "cell_type": "code",
   "execution_count": null,
   "metadata": {
    "collapsed": false
   },
   "outputs": [],
   "source": [
    "# Answer b\n",
    "\n",
    "\n",
    "from graphviz import Digraph\n",
    "dot = Digraph(comment='The Round Table')\n",
    "dot.node('A','Bus')\n",
    "dot.node('B','Train')\n",
    "dot.node('C','Bicycle')\n",
    "dot.edges(['AB','BC'])\n",
    "dot.edge('B','C',constraint='false')\n",
    "dot\n",
    "\n"
   ]
  },
  {
   "cell_type": "code",
   "execution_count": null,
   "metadata": {
    "collapsed": false
   },
   "outputs": [],
   "source": [
    "# Question c\n",
    "\n",
    "\n",
    "import pandas as pd\n",
    "import numpy as np\n",
    "import pylab\n",
    "import random as rn\n",
    "import networkx as nx\n",
    "from scipy.stats import pearsonr\n",
    "cor_data=data[~data.index.isin([u'hemo',u'pcv',u'sg',u'rbcc',u'class'])]\n",
    "cor_data=data.ix[data.index,data.columns[1:77]].transpose()\n",
    "n=len(cor_data.index)\n",
    "for i in range(n):\n",
    "    for j in range(i,n):\n",
    "        corr_matrix=pearsonr(data1.columns[i],data1.columns[j])[0]\n",
    "threshold = 0.5\n",
    "np.set_printoptions(precision=2)\n",
    "G = nx.Graph(corr_matrix)\n",
    "colors=pd.DataFrame(data['class'])\n",
    "colors=colors.replace(['ckd', 'notckd'],[\"pink\",\"lightseagreen\"])\n",
    "if(abs(corr_matrix)> threshold):\n",
    "    c=0\n",
    "    for i in cor_mat.index:\n",
    "        G.node[c]['color']=str(colors.ix[i,'class'])\n",
    "        c+=1\n",
    "nodes,edges = G.order(), G.size()\n",
    "# nx.draw_graphviz(G,node_color=nx.get_node_attributes(G,'color').values())\n",
    "pylab.savefig('C:\\\\Users\\\\Tamal\\\\Documents\\\\3rd Semester\\\\Bioinfo ll\\OutPuts\\\\task 5_ex1c.png')\n",
    "\n"
   ]
  },
  {
   "cell_type": "code",
   "execution_count": null,
   "metadata": {
    "collapsed": true
   },
   "outputs": [],
   "source": []
  }
 ],
 "metadata": {
  "kernelspec": {
   "display_name": "Python 3",
   "language": "python",
   "name": "python3"
  },
  "language_info": {
   "codemirror_mode": {
    "name": "ipython",
    "version": 3
   },
   "file_extension": ".py",
   "mimetype": "text/x-python",
   "name": "python",
   "nbconvert_exporter": "python",
   "pygments_lexer": "ipython3",
   "version": "3.5.1"
  }
 },
 "nbformat": 4,
 "nbformat_minor": 0
}
