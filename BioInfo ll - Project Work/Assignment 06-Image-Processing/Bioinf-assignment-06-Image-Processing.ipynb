{
 "cells": [
  {
   "cell_type": "code",
   "execution_count": 1,
   "metadata": {
    "collapsed": true
   },
   "outputs": [],
   "source": [
    "import scipy.misc as sm\n",
    "from scipy import ndimage\n",
    "import numpy as np\n",
    "import matplotlib.pyplot as plt\n",
    "from skimage import data\n",
    "from skimage import filters\n",
    "from skimage.morphology import erosion, disk"
   ]
  },
  {
   "cell_type": "markdown",
   "metadata": {},
   "source": [
    "# a) Read the grayscale image brain.png, which is provided on the lecture homepage. Reduce the salt and pepper noise in the image using a median filter."
   ]
  },
  {
   "cell_type": "code",
   "execution_count": 2,
   "metadata": {
    "collapsed": true
   },
   "outputs": [],
   "source": [
    "png_file = sm.imread(\"brain.png\", flatten = False, mode = 'L')\n",
    "plt.imshow(png_file)\n",
    "plt.gray()\n",
    "plt.title('Main image')\n",
    "plt.show()\n",
    "\n",
    "med_denoised = ndimage.median_filter(png_file, 5)\n",
    "plt.title('Denoised image')\n",
    "plt.imshow(med_denoised)\n",
    "plt.show()"
   ]
  },
  {
   "cell_type": "markdown",
   "metadata": {},
   "source": [
    "# b) Otsu thresholding is a histogram based method for image segmentation. Use it to find an intensitythreshold to segment brain pixels from background. Use Otsu thresholding again to find the threshold only over the brain pixels to segment brain's gray matter from the white matter. Using the two thresholds create three binary masks brain-bg.png, brain-gm.png, brain-wm.png, which should be white in regions of background, gray matter, and white matter, respectively, and black elsewhere."
   ]
  },
  {
   "cell_type": "code",
   "execution_count": 3,
   "metadata": {
    "collapsed": false
   },
   "outputs": [
    {
     "name": "stdout",
     "output_type": "stream",
     "text": [
      "background separating threshold 106\n",
      "gray matter from white matter separating threshold 206\n",
      "Thresholds: 106 206\n"
     ]
    }
   ],
   "source": [
    "val = filters.threshold_otsu(png_file)\n",
    "#val = filters.threshold_otsu(med_denoised)\n",
    "mask = med_denoised > val\n",
    "print('background separating threshold', val)\n",
    "plt.title('mask for background')\n",
    "plt.imshow(mask)\n",
    "plt.show()\n",
    "\n",
    "brain_matter = np.multiply(png_file, mask)\n",
    "#brain_matter = np.multiply(med_denoised, mask)\n",
    "plt.title('Background substracted image')\n",
    "plt.imshow(brain_matter)\n",
    "plt.show()\n",
    "\n",
    "#Converting the background 1 to use the same filter again.. If we dont change the value then then the filter cannot be used..Everytime it will\n",
    "#separate from background\n",
    "background = (brain_matter == 0)\n",
    "brain_matter[background] = 255\n",
    "val1 = filters.threshold_otsu(brain_matter)\n",
    "print('gray matter from white matter separating threshold', val1)\n",
    "#mask1 = brain_matter > val1\n",
    "#brain_matter0 = np.multiply(brain_matter, mask1)\n",
    "\n",
    "print('Thresholds:', val, val1)\n",
    "\n",
    "#Binary mask for background\n",
    "#deep copy, the values are copied; in any case if we change the values after denoising\n",
    "brain_bg = np.copy(png_file)\n",
    "#brain_bg = np.copy(med_denoised)\n",
    "brain_bg = brain_bg < val\n",
    "sm.imsave('C:\\\\Users\\\\Tamal\\\\Documents\\\\3rd Semester\\\\Bioinfo ll\\\\Last Assignment Tasks\\\\Task 6\\\\task_b_brain-bg.png',brain_bg)\n",
    "\n",
    "#Binary mask for grey matter\n",
    "brain_gm = np.copy(png_file)\n",
    "#brain_gm = np.copy(med_denoised)\n",
    "brain_gm = np.logical_and(brain_gm>=val, brain_gm < val1)\n",
    "sm.imsave('C:\\\\Users\\\\Tamal\\\\Documents\\\\3rd Semester\\\\Bioinfo ll\\\\Last Assignment Tasks\\\\Task 6\\\\task_b_brain-gm.png',brain_gm)\n",
    "\n",
    "#Binary mask for white matter\n",
    "brain_wm = np.copy(png_file)\n",
    "#brain_wm = np.copy(med_denoised)\n",
    "brain_wm = brain_wm >= val1\n",
    "sm.imsave('C:\\\\Users\\\\Tamal\\\\Documents\\\\3rd Semester\\\\Bioinfo ll\\\\Last Assignment Tasks\\\\Task 6\\\\task_b_brain-wm.png',brain_wm)"
   ]
  },
  {
   "cell_type": "markdown",
   "metadata": {},
   "source": [
    "# c) Plot a log-scaled histogram of the image, which should show how frequently different intensity values occur in the image. Mark the two intensity thresholds you found in task b). How do thesethresholds divide the histogram?"
   ]
  },
  {
   "cell_type": "code",
   "execution_count": 4,
   "metadata": {
    "collapsed": true
   },
   "outputs": [],
   "source": [
    "plt.hist(png_file.ravel())\n",
    "#plt.hist(med_denoised.ravel())\n",
    "plt.title('Log-scaled histogram of different intensity values')\n",
    "plt.xlabel('Intensity')\n",
    "plt.ylabel('Frequency')\n",
    "plt.yscale('log')\n",
    "plt.axvline(val, color='r', linestyle='dashed', linewidth=2)\n",
    "plt.axvline(val1, color='r', linestyle='dashed', linewidth=2)\n",
    "plt.savefig('C:\\\\Users\\\\Tamal\\\\Documents\\\\3rd Semester\\\\Bioinfo ll\\\\Last Assignment Tasks\\\\Task 6\\\\task_c_Log_scaled_Histogram.png')\n",
    "plt.show()"
   ]
  },
  {
   "cell_type": "markdown",
   "metadata": {},
   "source": [
    "# d) Combine the three masks into a single color image so that background, gray matter, and white matter are mapped to red, green and blue, respectively."
   ]
  },
  {
   "cell_type": "code",
   "execution_count": 5,
   "metadata": {
    "collapsed": true
   },
   "outputs": [],
   "source": [
    "brain_rgb = np.dstack((brain_bg,brain_gm,brain_wm))\n",
    "plt.imshow(brain_rgb)\n",
    "plt.savefig('C:\\\\Users\\\\Tamal\\\\Documents\\\\3rd Semester\\\\Bioinfo ll\\\\Last Assignment Tasks\\\\Task 6\\\\task_d_brain_rgb.png')\n",
    "plt.show()"
   ]
  },
  {
   "cell_type": "markdown",
   "metadata": {
    "collapsed": true
   },
   "source": [
    "# e) Use erosion filter to produce a boundary between the gray and white matter. Put that boundary on the denoised input image."
   ]
  },
  {
   "cell_type": "code",
   "execution_count": 6,
   "metadata": {
    "collapsed": false
   },
   "outputs": [],
   "source": [
    "brain_wm1 = np.copy(med_denoised)\n",
    "brain_wm1 = brain_wm1 >= val1\n",
    "white_matter = np.multiply(med_denoised, brain_wm1)\n",
    "#plt.imshow(white_matter)\n",
    "#plt.show()\n",
    "\n",
    "selem = disk(1)\n",
    "eroded = erosion(white_matter, selem)\n",
    "#plt.imshow(eroded)\n",
    "#plt.show()\n",
    "\n",
    "inverted_wh_mask = 1 - brain_wm1\n",
    "#plt.imshow(inverted_wh_mask)\n",
    "#plt.show()\n",
    "\n",
    "brain_contour = np.multiply(med_denoised, inverted_wh_mask) + eroded\n",
    "plt.imshow(brain_contour)\n",
    "plt.savefig('C:\\\\Users\\\\Tamal\\\\Documents\\\\3rd Semester\\\\Bioinfo ll\\\\Last Assignment Tasks\\\\Task 6\\\\task_e_brain_contour.png')\n",
    "plt.show()"
   ]
  },
  {
   "cell_type": "markdown",
   "metadata": {},
   "source": [
    "# f) Use bilinear interpolation to upsample the image by a factor of four along each axis. Apply the same thresholds as in b) to obtain a segmentation into background, gray matter, and white matter. Upsample the masks from b) in the same way and compare the upsampled masks to the masks from the upsampled image. Can you see a difference? Why? (4P)"
   ]
  },
  {
   "cell_type": "code",
   "execution_count": 7,
   "metadata": {
    "collapsed": true
   },
   "outputs": [],
   "source": [
    "brain_fig = np.copy(png_file)\n",
    "upsampled_brain_fig = ndimage.zoom(brain_fig, 4, order=1)\n",
    "sm.imsave('C:\\\\Users\\\\Tamal\\\\Documents\\\\3rd Semester\\\\Bioinfo ll\\\\Last Assignment Tasks\\\\Task 6\\\\task_f_Upsampled_brain_fig.png',upsampled_brain_fig)\n",
    "\n",
    "#plt.imshow(upsampled_brain)\n",
    "#plt.show()\n",
    "upsampled_bg = upsampled_brain_fig\n",
    "upsampled_bg = upsampled_bg < val\n",
    "plt.imshow(upsampled_bg,cmap = 'gray', vmin = 0 ,vmax = 1)\n",
    "plt.show()\n",
    "sm.imsave('C:\\\\Users\\\\Tamal\\\\Documents\\\\3rd Semester\\\\Bioinfo ll\\\\Last Assignment Tasks\\\\Task 6\\\\task_f_Upsampled_bg.png',upsampled_bg)\n",
    "\n",
    "upsampled_wm = upsampled_brain_fig\n",
    "upsampled_wm = upsampled_wm >= val1\n",
    "plt.imshow(upsampled_wm,cmap ='gray',vmin = 0,vmax = 1)\n",
    "plt.show()\n",
    "sm.imsave('C:\\\\Users\\\\Tamal\\\\Documents\\\\3rd Semester\\\\Bioinfo ll\\\\Last Assignment Tasks\\\\Task 6\\\\task_f_Upsampled_wm.png',upsampled_wm)\n",
    "\n",
    "upsampled_gm = upsampled_brain_fig\n",
    "upsampled_gm = np.logical_and(upsampled_gm >= val, upsampled_gm < val1)\n",
    "plt.imshow(upsampled_gm,cmap = 'gray',vmin = 0,vmax = 1)\n",
    "plt.show()\n",
    "sm.imsave('C:\\\\Users\\\\Tamal\\\\Documents\\\\3rd Semester\\\\Bioinfo ll\\\\Last Assignment Tasks\\\\Task 6\\\\task_f_Upsampled_gm.png',upsampled_gm)\n",
    "\n",
    "upsampled_brain_bg=ndimage.zoom(brain_bg + 0, 4, order=1)\n",
    "plt.imshow(upsampled_brain_bg,cmap='gray',vmin=0,vmax=1)\n",
    "plt.show()\n",
    "sm.imsave('C:\\\\Users\\\\Tamal\\\\Documents\\\\3rd Semester\\\\Bioinfo ll\\\\Last Assignment Tasks\\\\Task 6\\\\task_f_Upsampled_brain_bg.png',upsampled_brain_bg)\n",
    "\n",
    "upsampled_brain_wm = ndimage.zoom(brain_wm+0, 4, order = 1)\n",
    "plt.imshow(upsampled_brain_wm,cmap ='gray',vmin = 0,vmax = 1)\n",
    "plt.show()\n",
    "sm.imsave('C:\\\\Users\\\\Tamal\\\\Documents\\\\3rd Semester\\\\Bioinfo ll\\\\Last Assignment Tasks\\\\Task 6\\\\task_f_Upsampled_brain_wm.png',upsampled_brain_wm)\n",
    "\n",
    "upsampled_brain_gm = ndimage.zoom(brain_gm+0, 4, order = 1)\n",
    "plt.imshow(upsampled_brain_gm,cmap = 'gray',vmin = 0,vmax = 1)\n",
    "plt.show()\n",
    "sm.imsave('C:\\\\Users\\\\Tamal\\\\Documents\\\\3rd Semester\\\\Bioinfo ll\\\\Last Assignment Tasks\\\\Task 6\\\\task_f_Upsampled_brain_gm.png',upsampled_brain_gm)\n",
    "\n",
    "brain_fig_NNI = np.copy(png_file)\n",
    "NNI_brain = ndimage.zoom(brain_fig_NNI, 4, order = 0)\n",
    "#plt.imshow(NNI_brain)\n",
    "#plt.show()\n",
    "\n",
    "NNI_brain_bg = NNI_brain\n",
    "NNI_brain_bg = NNI_brain_bg < val\n",
    "plt.imshow(NNI_brain_bg,cmap ='gray',vmin = 0,vmax = 1)\n",
    "plt.show()\n",
    "sm.imsave('C:\\\\Users\\\\Tamal\\\\Documents\\\\3rd Semester\\\\Bioinfo ll\\\\Last Assignment Tasks\\\\Task 6\\\\task_f_NNI_brain_bg.png',NNI_brain_bg)\n",
    "\n",
    "NNI_brain_wm = NNI_brain\n",
    "NNI_brain_wm = NNI_brain_wm >= val1\n",
    "plt.imshow(NNI_brain_wm,cmap ='gray',vmin = 0,vmax = 1)\n",
    "plt.show()\n",
    "sm.imsave('C:\\\\Users\\\\Tamal\\\\Documents\\\\3rd Semester\\\\Bioinfo ll\\\\Last Assignment Tasks\\\\Task 6\\\\task_f_NNI_brain_wm.png',NNI_brain_wm)\n",
    "\n",
    "NNI_brain_gm = NNI_brain\n",
    "NNI_brain_gm = np.logical_and(NNI_brain_gm >= val, NNI_brain_gm < val1)\n",
    "plt.imshow(NNI_brain_gm,cmap ='gray',vmin = 0,vmax = 1)\n",
    "plt.show()\n",
    "sm.imsave('C:\\\\Users\\\\Tamal\\\\Documents\\\\3rd Semester\\\\Bioinfo ll\\\\Last Assignment Tasks\\\\Task 6\\\\task_f_NNI_brain_gm.png',NNI_brain_gm)\n",
    "\n",
    "#Upsampling the masks from part b\n",
    "NNI_bg_mask = ndimage.zoom(brain_bg, 4, order = 0)\n",
    "plt.imshow(NNI_bg_mask,cmap ='gray',vmin = 0,vmax = 1)\n",
    "plt.show()\n",
    "sm.imsave('C:\\\\Users\\\\Tamal\\\\Documents\\\\3rd Semester\\\\Bioinfo ll\\\\Last Assignment Tasks\\\\Task 6\\\\task_f_NNI_bg_mask.png',NNI_bg_mask)\n",
    "\n",
    "NNI_wm_mask = ndimage.zoom(brain_wm, 4, order = 0)\n",
    "plt.imshow(NNI_wm_mask,cmap ='gray',vmin = 0,vmax = 1)\n",
    "plt.show()\n",
    "sm.imsave('C:\\\\Users\\\\Tamal\\\\Documents\\\\3rd Semester\\\\Bioinfo ll\\\\Last Assignment Tasks\\\\Task 6\\\\task_f_NNI_wm_mask.png',NNI_wm_mask)\n",
    "\n",
    "NNI_gm_mask = ndimage.zoom(brain_gm, 4, order = 0)\n",
    "plt.imshow(NNI_gm_mask,cmap ='gray',vmin = 0,vmax = 1)\n",
    "plt.show()\n",
    "sm.imsave('C:\\\\Users\\\\Tamal\\\\Documents\\\\3rd Semester\\\\Bioinfo ll\\\\Last Assignment Tasks\\\\Task 6\\\\task_f_NNI_gm_mask.png',NNI_gm_mask)\n",
    "\n",
    "\n",
    "\n"
   ]
  }
 ],
 "metadata": {
  "kernelspec": {
   "display_name": "Python 3",
   "language": "python",
   "name": "python3"
  },
  "language_info": {
   "codemirror_mode": {
    "name": "ipython",
    "version": 3
   },
   "file_extension": ".py",
   "mimetype": "text/x-python",
   "name": "python",
   "nbconvert_exporter": "python",
   "pygments_lexer": "ipython3",
   "version": "3.5.1"
  }
 },
 "nbformat": 4,
 "nbformat_minor": 0
}
