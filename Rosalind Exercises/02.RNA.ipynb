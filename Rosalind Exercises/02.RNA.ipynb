{
 "cells": [
  {
   "cell_type": "markdown",
   "metadata": {},
   "source": [
    "RNA - Transcribing DNA into RNA\n",
    "        An RNA string is a string formed from the alphabet containing 'A', 'C', 'G', and 'U'.\n",
    "\n",
    "Given a DNA string tt corresponding to a coding strand, its transcribed RNA string uu is formed by replacing all occurrences of 'T' in tt with 'U' in uu.\n",
    "\n",
    "Given: A DNA string tt having length at most 1000 nt.\n",
    "\n",
    "Return: The transcribed RNA string of tt."
   ]
  },
  {
   "cell_type": "code",
   "execution_count": null,
   "metadata": {
    "collapsed": false
   },
   "outputs": [],
   "source": [
    "def RNA(seq):\n",
    "    for i in seq:\n",
    "        if i == 'T':\n",
    "            md_seq = seq.replace('T', 'U')\n",
    "            return md_seq\n",
    "            \n",
    "seq = 'CGATGAGGAGAGTCAAAAGTCAGTTTGAGCGTGGGTCGGCTCATGTAGTGAACCCTGAAACGGACCACAAGGATTCACTAATCACTATTTAGGTGATTTTCGCCCCTAAACATAAATTCTTAAACCCTGGAACCGCCACGTACGATCCCCCTGACCTACCAATTAAACACACATAGGCCCGATGGTTTGGGGATGCTGTCATCTGTAACGTAATAGCAGCGTTATCAGTGAGCTACTCGGGACATGGCTCTGGCTACCCACAGGGCTCAGAAAAGTCTCCAAAGCGCAACTTATGTGGTAAGCACCCGGCTACGGCCTTCGCCCTCTCATAGTTCTCGCAGCTCCTCCGGAATTGGTAGAAACGGGCTAGATTCCAATAGGTTAGAGCAAATAGCCTAGTCCGCTCTACACAACGTGTGAATTTGTACCGCTAGATTCTGGCTACCACAGTAGGAGTTGGAAGCACCGGACTTATAGCTAGCATTAAATCCATAGACCCAGACTTGTCCGAGTACTTGAGACGCCTAGTATGGAACGTTGCGGCGTATTTGGGATGGTTGTTCATAAGGCCATTTTACGTAAGGCCGTCACTCCGTACCCCCTATCTACCGATTCGGTATCCACGACTTCCGAACGGTCACAGCGGGGCAGGCACGACCACAAATAGGTGGGGTGGATCCATACTCACTGCGCCGATGCGAGTAAATCCCTACTGTGAGTCTCAAATGACGAATAATTCAGTCCTGCCCTTCTTCGCCATAAAATTCGGTTACATTCGAAGCCGCGTTAGCGTTAATGGGACGTTGCGCAGGCATTATATAGGTATTAATTGTGTAATATGGGAAAGGAGTCTTTCGGTCTTTCAGAGGTTCGGCGTTTTATGACTCAGCAAAGTTTCTCGTGATCGTGTCCGTCGAATCGCATCCCATA'\n",
    "RNA(seq)"
   ]
  },
  {
   "cell_type": "code",
   "execution_count": null,
   "metadata": {
    "collapsed": true
   },
   "outputs": [],
   "source": []
  }
 ],
 "metadata": {
  "kernelspec": {
   "display_name": "Python 3",
   "language": "python",
   "name": "python3"
  },
  "language_info": {
   "codemirror_mode": {
    "name": "ipython",
    "version": 3
   },
   "file_extension": ".py",
   "mimetype": "text/x-python",
   "name": "python",
   "nbconvert_exporter": "python",
   "pygments_lexer": "ipython3",
   "version": "3.5.1"
  }
 },
 "nbformat": 4,
 "nbformat_minor": 0
}
