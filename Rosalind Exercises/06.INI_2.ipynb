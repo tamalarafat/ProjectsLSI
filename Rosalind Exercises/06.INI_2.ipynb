{
 "cells": [
  {
   "cell_type": "markdown",
   "metadata": {},
   "source": [
    "INI - Introduction to the Bioinformatics Armory\n",
    "        This initial problem is aimed at familiarizing you with Rosalind's task-solving pipeline. To solve it, you merely have to take a given DNA sequence and find its nucleotide counts; this problem is equivalent to “Counting DNA Nucleotides” in the Stronghold.\n",
    "\n",
    "Of the many tools for DNA sequence analysis, one of the most popular is the Sequence Manipulation Suite. Commonly known as SMS 2, it comprises a collection of programs for generating, formatting, and analyzing short strands of DNA and polypeptides.\n",
    "\n",
    "One of the simplest SMS 2 programs, called DNA stats, counts the number of occurrences of each nucleotide in a given strand of DNA. An online interface for DNA stats can be found here.\n",
    "\n",
    "Given: A DNA string ss of length at most 1000 bp.\n",
    "\n",
    "Return: Four integers (separated by spaces) representing the respective number of times that the symbols 'A', 'C', 'G', and 'T' occur in ss. Note: You must provide your answer in the format shown in the sample output below.\n",
    "        "
   ]
  },
  {
   "cell_type": "code",
   "execution_count": null,
   "metadata": {
    "collapsed": true
   },
   "outputs": [],
   "source": [
    "from Bio.Seq import Seq\n",
    "my_seq = Seq(\"ACCTAGCGAGATACTTTCGTATGTCGAGCTTCCAGTTGATTATGCATCTTTAGTATACAGGACGGGCGCCATTAGATTTACGAGAGATTCGAATTCGTTTATTGGACGATGTATCTCCTGCACATAACTTGCGTAGATCTCCTGAAGCAACAACTCAAGGACGTTCCACTGTGACATAGATCCAACCGGGATGAACTACCCGCTGCAAGTGACGGCGCGCAGGAACTTGCCGAGGTACGATCTCAATCCCACTCTGTTGTACCTCTATCCTGGTGACTCCAAGGATACCGTGTCTGTATAGGTACTGATCACAGATTTACTCGTGGCATCCCAGGATCGCCTCCTTGCGTTGACACCTCCAGGACCGGAAAACGGAAGGCTAGCGGGCAACCAGGAATATTACGGGTAAGAGTCTAGGTGTAAATATGCAAGCCTAATGCCGATTACTAAGCGAAGCCGTAATCCTGCTATAGCTGCGATACTGTCCATAAGATTAAGTAGGCTCGTTCCGTGCAGCATACGATTAAAGGGTAACTTAGCTACTGAGCCTTTCCGATGGGTGCTGGACAACCCTGACTCTACGCTGCCGTGTGCGTGCCGCGCCCTGGTACGGTTTAGTTTAAGGTGCTCGAGTTGAGTATAAACTAATTGGCTCTGAGCCAAAGACTTTACCCAGTTTGCATATCTAGCGGCGTCACTTTGTTAGTCGCGGAATAAGAGAGATTCAATCTTCGACTTAACCCTTGCAAACCTATAAATGAAAAAGGCCTCCAATCCGATGGCAGGGTGTGGCTATCGGCCGAGAGTTATACACCGCTGTCCCAGCTAGGATTCCTCTCCGCTTCAGCCGGTATTAAAGAGGGGGTATCATCCCCAACTAGACAGGACCGCGACGCGAGTTTGGGTTCGTGGAGGCGGATGACTACTTAATAGGTGACAACGAGTAGGGGCATGCAAAATGTACTGAACCAAATACGGCGGCGTCGAGAGGTAAAG\")\n",
    "nucl_c = []\n",
    "nucl_c.append(my_seq.count(\"A\"))\n",
    "nucl_c.append(my_seq.count(\"C\"))\n",
    "nucl_c.append(my_seq.count(\"G\"))\n",
    "nucl_c.append(my_seq.count(\"T\"))\n",
    "print (*nucl_c)"
   ]
  }
 ],
 "metadata": {
  "kernelspec": {
   "display_name": "Python 3",
   "language": "python",
   "name": "python3"
  },
  "language_info": {
   "codemirror_mode": {
    "name": "ipython",
    "version": 3
   },
   "file_extension": ".py",
   "mimetype": "text/x-python",
   "name": "python",
   "nbconvert_exporter": "python",
   "pygments_lexer": "ipython3",
   "version": "3.5.1"
  }
 },
 "nbformat": 4,
 "nbformat_minor": 0
}
