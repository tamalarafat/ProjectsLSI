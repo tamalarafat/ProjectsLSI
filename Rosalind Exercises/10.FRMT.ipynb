{
 "cells": [
  {
   "cell_type": "code",
   "execution_count": null,
   "metadata": {
    "collapsed": true
   },
   "outputs": [],
   "source": [
    "FRMT - Data Formats\n",
    "Given: A collection of nn (n≤10n≤10) GenBank entry IDs.\n",
    "\n",
    "Return: The shortest of the strings associated with the IDs in FASTA format."
   ]
  },
  {
   "cell_type": "code",
   "execution_count": null,
   "metadata": {
    "collapsed": true
   },
   "outputs": [],
   "source": [
    "from Bio import Entrez\n",
    "from Bio import SeqIO\n",
    "\n",
    "with open('rosalind_frmt.txt') as fin:\n",
    "    IDs = fin.read().strip().split()\n",
    "\n",
    "Entrez.email = 'tamalarafat@gmail.com'\n",
    "handle = Entrez.efetch(db='nucleotide', id=IDs, rettype='fasta')\n",
    "records = list(SeqIO.parse(handle, 'fasta'))\n",
    "\n",
    "[min_index] = [i for i in range(len(records)) if len(records[i]) == min([len(record.seq) for record in records])]\n",
    "\n",
    "handle2 = Entrez.efetch(db='nucleotide', id=IDs, rettype='fasta')\n",
    "minFASTA = handle2.read().strip().split('\\n\\n')[min_index]\n",
    "\n",
    "print (minFASTA)"
   ]
  }
 ],
 "metadata": {
  "kernelspec": {
   "display_name": "Python 3",
   "language": "python",
   "name": "python3"
  },
  "language_info": {
   "codemirror_mode": {
    "name": "ipython",
    "version": 3
   },
   "file_extension": ".py",
   "mimetype": "text/x-python",
   "name": "python",
   "nbconvert_exporter": "python",
   "pygments_lexer": "ipython3",
   "version": "3.5.1"
  }
 },
 "nbformat": 4,
 "nbformat_minor": 0
}
