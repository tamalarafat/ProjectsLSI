{
 "cells": [
  {
   "cell_type": "markdown",
   "metadata": {},
   "source": [
    "FIBD - Mortal Fibonacci Rabbits\n",
    "        Recall the definition of the Fibonacci numbers from “Rabbits and Recurrence Relations”, which followed the recurrence relation Fn=Fn−1+Fn−2Fn=Fn−1+Fn−2 and assumed that each pair of rabbits reaches maturity in one month and produces a single pair of offspring (one male, one female) each subsequent month.\n",
    "\n",
    "Our aim is to somehow modify this recurrence relation to achieve a dynamic programming solution in the case that all rabbits die out after a fixed number of months. See Figure 4 for a depiction of a rabbit tree in which rabbits live for three months (meaning that they reproduce only twice before dying).\n",
    "\n",
    "Given: Positive integers n≤100n≤100 and m≤20m≤20.\n",
    "\n",
    "Return: The total number of pairs of rabbits that will remain after the nn-th month if all rabbits live for mm months.\n"
   ]
  },
  {
   "cell_type": "code",
   "execution_count": null,
   "metadata": {
    "collapsed": true
   },
   "outputs": [],
   "source": [
    "def fibd(n, m):\n",
    "    if n < 2:\n",
    "        return n\n",
    "    elif n <= m: \n",
    "        return fibd(n-1, m) + fibd(n-2, m)\n",
    "    elif n == m + 1: \n",
    "        return fibd(n-1, m) + fibd(n-2, m) - 1\n",
    "    \n",
    "    return fibd(n-1, m) + fibd(n-2, m) - fibd(n-(m+1), m)\n",
    "\n",
    "def fibd_2(n, m):    \n",
    "    fibd_table = []\n",
    "    for i in range(n):\n",
    "        if i < 2:\n",
    "            fibd_table.append(1)\n",
    "        elif i < m:\n",
    "            fibd_table.append(fibd_table[-2] + fibd_table[-1])\n",
    "        elif i == m or i == m+1:\n",
    "            fibd_table.append((fibd_table[-2] + fibd_table[-1]) - 1)\n",
    "        else:\n",
    "            fibd_table.append((fibd_table[-2] + fibd_table[-1]) - fibd_table[-(m+1)])\n",
    "            \n",
    "    return fibd_table[-1]\n",
    "\n",
    "op = fibd_2(99, 20)\n",
    "print (op)"
   ]
  }
 ],
 "metadata": {
  "kernelspec": {
   "display_name": "Python 3",
   "language": "python",
   "name": "python3"
  },
  "language_info": {
   "codemirror_mode": {
    "name": "ipython",
    "version": 3
   },
   "file_extension": ".py",
   "mimetype": "text/x-python",
   "name": "python",
   "nbconvert_exporter": "python",
   "pygments_lexer": "ipython3",
   "version": "3.5.1"
  }
 },
 "nbformat": 4,
 "nbformat_minor": 0
}
