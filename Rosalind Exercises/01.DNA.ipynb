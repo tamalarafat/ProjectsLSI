{
 "cells": [
  {
   "cell_type": "markdown",
   "metadata": {},
   "source": [
    "DNA - Counting DNA Nucleotides\n",
    "        A string is simply an ordered collection of symbols selected from some alphabet and formed into a word; the length of a string is the number of symbols that it contains.\n",
    "\n",
    "An example of a length 21 DNA string (whose alphabet contains the symbols 'A', 'C', 'G', and 'T') is \"ATGCTTCAGAAAGGTCTTACG.\"\n",
    "\n",
    "Given: A DNA string ss of length at most 1000 nt.\n",
    "\n",
    "Return: Four integers (separated by spaces) counting the respective number of times that the symbols 'A', 'C', 'G', and 'T' occur in ss."
   ]
  },
  {
   "cell_type": "code",
   "execution_count": null,
   "metadata": {
    "collapsed": false
   },
   "outputs": [],
   "source": [
    "seq = 'GTCAAAGAACCCTGAACACTTGTTCTTTCGGATAACATACCTGTACTCGGATAAGGGATCCCCAGCCAAGGCCTTAAAGAAAGCCCTACAAAAGAGCCTAATGTATTCTGGCAAATTCACTGGGCCCATTATGGGGGCCTTAGACCCTTGAGATGCTAGAGGTCAGCAAATTCTACTCCGTCCGCATTTTCCATGCCTCTTCGCACTCAACCTTTTGGGCCCCATGGGTCAGACATCCCGGAAAGGACAGACTCATAGGGTAGCATACAATGTGCCGACGTTTATGACGGACCTCCCAATGACTCGGGTTGTGTCACCTTTACGAGACGGGTCATAAGGTGTAAACACGGATCATGAAACTATGTCCACGCTCCACCCAACCTCCTTGACACGCACAAATTAATGGCATTAATCAAATAGGCGCACGCCTAAACCAGAAAGCTATGTATTGGATAACGGCGCGCGAGTTACCGCCATGCAGACCTCCGTTAAACGTAAAGCTTAATTGCAACGCATCCAAACGACTTATCCCCATTTGTCCTTACAAACTACGACGTTAGGGTGATATTCTGTGGTTCCCGGATACTCCAAACACGACCAAACGCAGGCTCGCGAGGAATAGTTAGTGATGCGTGTGTCCTACATTCCATCTCCCCTTATGGGACGCCTAATTGAGGGATGAGCTGCATAAAAGAGTGCCACCAGAGAGTTCAAAAATGACGAAGCGTCCACCGAGAGTATCTCCGACGTCTTCGAATGGTTGTCTTTAAAAGGCCCGCATCGACCTATTACTACTCGATACGTATGCGCAGACCATCGTCGGTACAGGGATCTTGGCTGTTTGCAATTCAAATGGCATCACCTTAGGCGTCGTGAGACAGGTGACTGAAACATGCCAGTTGTGAGTTTAGTGTGACACCCCCCATGCCCTCGG'\n",
    "def count_nucl (seq):\n",
    "    nucl_list = ['A', 'C', 'G', 'T']\n",
    "    A_count = 0\n",
    "    C_count = 0\n",
    "    G_count = 0\n",
    "    T_count = 0\n",
    "    for c in seq:\n",
    "        if c == nucl_list[0]:\n",
    "            A_count += 1\n",
    "        elif c == nucl_list[1]:\n",
    "            C_count += 1\n",
    "        elif c == nucl_list[2]:\n",
    "            G_count += 1\n",
    "        elif c == nucl_list[3]:\n",
    "            T_count += 1\n",
    "    return A_count, C_count, G_count, T_count\n",
    "\n",
    "op = count_nucl(seq)\n",
    "print (*op)    "
   ]
  },
  {
   "cell_type": "code",
   "execution_count": null,
   "metadata": {
    "collapsed": true
   },
   "outputs": [],
   "source": []
  }
 ],
 "metadata": {
  "kernelspec": {
   "display_name": "Python 3",
   "language": "python",
   "name": "python3"
  },
  "language_info": {
   "codemirror_mode": {
    "name": "ipython",
    "version": 3
   },
   "file_extension": ".py",
   "mimetype": "text/x-python",
   "name": "python",
   "nbconvert_exporter": "python",
   "pygments_lexer": "ipython3",
   "version": "3.5.1"
  }
 },
 "nbformat": 4,
 "nbformat_minor": 0
}
