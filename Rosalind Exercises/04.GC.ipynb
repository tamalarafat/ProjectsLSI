{
 "cells": [
  {
   "cell_type": "markdown",
   "metadata": {},
   "source": [
    "GC - Computing GC Content\n",
    "Identifying Unknown DNA Quickly\n",
    "The GC-content of a DNA string is given by the percentage of symbols in the string that are 'C' or 'G'. For example, the GC-content of \"AGCTATAG\" is 37.5%. Note that the reverse complement of any DNA string has the same GC-content.\n",
    "\n",
    "DNA strings must be labeled when they are consolidated into a database. A commonly used method of string labeling is called FASTA format. In this format, the string is introduced by a line that begins with '>', followed by some labeling information. Subsequent lines contain the string itself; the first line to begin with '>' indicates the label of the next string.\n",
    "\n",
    "In Rosalind's implementation, a string in FASTA format will be labeled by the ID \"Rosalind_xxxx\", where \"xxxx\" denotes a four-digit code between 0000 and 9999.\n",
    "\n",
    "Given: At most 10 DNA strings in FASTA format (of length at most 1 kbp each).\n",
    "\n",
    "Return: The ID of the string having the highest GC-content, followed by the GC-content of that string. Rosalind allows for a default error of 0.001 in all decimal answers unless otherwise stated; please see the note on absolute error below."
   ]
  },
  {
   "cell_type": "code",
   "execution_count": null,
   "metadata": {
    "collapsed": true
   },
   "outputs": [],
   "source": [
    "def read_file(infile):\n",
    "    fin = open(infile, \"r\")\n",
    "    seq = \"\"\n",
    "    header = None\n",
    "    all_seq = []\n",
    "    for line in fin:\n",
    "        if line.startswith(\">\"):\n",
    "            if header is not None:\n",
    "                all_seq.append((header,seq))\n",
    "            header = line.lstrip(\">\").rstrip(\"\\n\")\n",
    "            seq=\"\"\n",
    "        else:\n",
    "            seq += line.strip()\n",
    "    all_seq.append((header,seq))      \n",
    "    return(all_seq)\n",
    "\n",
    "def gc_count(filename):\n",
    "    fin = read_file(filename)\n",
    "    seq_ids = []\n",
    "    gc_counts = []\n",
    "    for entry in fin:\n",
    "        seq_id = entry[0]\n",
    "        seq = entry[1]\n",
    "        a, t, g, c = DNA(seq)\n",
    "        seq_ids.append(entry[0])\n",
    "        gc_counts.append(float((g + c))*100 / float(a + t + g + c))\n",
    "    max_count = max(gc_counts)\n",
    "    index = [i for i, j in enumerate(gc_counts) if j == max_count]\n",
    "    max_id = seq_ids[index[0]]\n",
    "    return max_id, max_count\n",
    "\n",
    "gc_count('rosalind_gc.txt')"
   ]
  }
 ],
 "metadata": {
  "kernelspec": {
   "display_name": "Python 3",
   "language": "python",
   "name": "python3"
  },
  "language_info": {
   "codemirror_mode": {
    "name": "ipython",
    "version": 3
   },
   "file_extension": ".py",
   "mimetype": "text/x-python",
   "name": "python",
   "nbconvert_exporter": "python",
   "pygments_lexer": "ipython3",
   "version": "3.5.1"
  }
 },
 "nbformat": 4,
 "nbformat_minor": 0
}
