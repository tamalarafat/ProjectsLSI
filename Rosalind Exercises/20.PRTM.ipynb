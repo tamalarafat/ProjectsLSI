{
 "cells": [
  {
   "cell_type": "markdown",
   "metadata": {},
   "source": [
    "PRTM - Calculating Protein Mass\n",
    "        In a weighted alphabet, every symbol is assigned a positive real number called a weight. A string formed from a weighted alphabet is called a weighted string, and its weight is equal to the sum of the weights of its symbols.\n",
    "\n",
    "The standard weight assigned to each member of the 20-symbol amino acid alphabet is the monoisotopic mass of the corresponding amino acid.\n",
    "\n",
    "Given: A protein string PP of length at most 1000 aa.\n",
    "\n",
    "Return: The total weight of PP. Consult the monoisotopic mass table."
   ]
  },
  {
   "cell_type": "code",
   "execution_count": null,
   "metadata": {
    "collapsed": true
   },
   "outputs": [],
   "source": [
    "MONOISOTOPIC_MASS_TABLE = {\n",
    "    'A': 71.03711,\n",
    "    'C': 103.00919,\n",
    "    'D': 115.02694,\n",
    "    'E': 129.04259,\n",
    "    'F': 147.06841,\n",
    "    'G': 57.02146,\n",
    "    'H': 137.05891,\n",
    "    'I': 113.08406,\n",
    "    'K': 128.09496,\n",
    "    'L': 113.08406,\n",
    "    'M': 131.04049,\n",
    "    'N': 114.04293,\n",
    "    'P': 97.05276,\n",
    "    'Q': 128.05858,\n",
    "    'R': 156.10111,\n",
    "    'S': 87.03203,\n",
    "    'T': 101.04768,\n",
    "    'V': 99.06841,\n",
    "    'W': 186.07931,\n",
    "    'Y': 163.06333,\n",
    "}\n",
    "\n",
    "def wg(wg_string):\n",
    "    n = 0\n",
    "    for i in wg_string:\n",
    "        n += MONOISOTOPIC_MASS_TABLE[i]\n",
    "    return n\n",
    "\n",
    "data_set = open('rosalind_prtm.txt').read().strip()\n",
    "print (wg(data_set))"
   ]
  }
 ],
 "metadata": {
  "kernelspec": {
   "display_name": "Python 3",
   "language": "python",
   "name": "python3"
  },
  "language_info": {
   "codemirror_mode": {
    "name": "ipython",
    "version": 3
   },
   "file_extension": ".py",
   "mimetype": "text/x-python",
   "name": "python",
   "nbconvert_exporter": "python",
   "pygments_lexer": "ipython3",
   "version": "3.5.1"
  }
 },
 "nbformat": 4,
 "nbformat_minor": 0
}
