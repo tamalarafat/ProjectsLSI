{
 "cells": [
  {
   "cell_type": "markdown",
   "metadata": {},
   "source": [
    "DBPR - Four Commonly Used Protein Databases\n",
    "The UniProt Knowledgebase can be found here.\n",
    "\n",
    "You can see a complete description of a protein by entering its UniProt access ID into the site's query field. Equivalently, you may simply insert its ID (uniprot_id) directly into a UniProt hyperlink as follows:\n",
    "\n",
    "http://www.uniprot.org/uniprot/uniprot_id\n",
    "For example, the data for protein B5ZC00 can be found at http://www.uniprot.org/uniprot/B5ZC00.\n",
    "\n",
    "Swiss-Prot holds protein data as a structured .txt file. You can obtain it by simply adding .txt to the link:\n",
    "\n",
    "http://www.uniprot.org/uniprot/uniprot_id.txt\n",
    "Given: The UniProt ID of a protein.\n",
    "\n",
    "Return: A list of biological processes in which the protein is involved (biological processes are found in a subsection of the protein's \"Gene Ontology\" (GO) section)."
   ]
  },
  {
   "cell_type": "code",
   "execution_count": null,
   "metadata": {
    "collapsed": true
   },
   "outputs": [],
   "source": [
    "import urllib.request\n",
    "filename = input()\n",
    "url = 'http://www.uniprot.org/uniprot/'+filename+'.txt'\n",
    "print(url)"
   ]
  },
  {
   "cell_type": "code",
   "execution_count": null,
   "metadata": {
    "collapsed": true
   },
   "outputs": [],
   "source": [
    "response = urllib.request.urlopen(url)\n",
    "data = response.read()      # a `bytes` object\n",
    "text = data.decode('utf-8')\n",
    "print(text)\n",
    "lines = text.split('\\n')\n",
    "for line in lines:\n",
    "    words = line.split()\n",
    "    if 'GO;' in words:\n",
    "        gene = (line.split(';'))[2].split(':')[1]\n",
    "        print(gene)"
   ]
  }
 ],
 "metadata": {
  "kernelspec": {
   "display_name": "Python 3",
   "language": "python",
   "name": "python3"
  },
  "language_info": {
   "codemirror_mode": {
    "name": "ipython",
    "version": 3
   },
   "file_extension": ".py",
   "mimetype": "text/x-python",
   "name": "python",
   "nbconvert_exporter": "python",
   "pygments_lexer": "ipython3",
   "version": "3.5.1"
  }
 },
 "nbformat": 4,
 "nbformat_minor": 0
}
