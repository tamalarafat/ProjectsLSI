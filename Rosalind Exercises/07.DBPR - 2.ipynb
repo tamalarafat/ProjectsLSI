{
 "cells": [
  {
   "cell_type": "markdown",
   "metadata": {},
   "source": [
    "DBPR - Four Commonly Used Protein Databases The UniProt Knowledgebase can be found here.\n",
    "You can see a complete description of a protein by entering its UniProt access ID into the site's query field. Equivalently, you may simply insert its ID (uniprot_id) directly into a UniProt hyperlink as follows:\n",
    "http://www.uniprot.org/uniprot/uniprot_id For example, the data for protein B5ZC00 can be found at http://www.uniprot.org/uniprot/B5ZC00.\n",
    "Swiss-Prot holds protein data as a structured .txt file. You can obtain it by simply adding .txt to the link:\n",
    "http://www.uniprot.org/uniprot/uniprot_id.txt Given: The UniProt ID of a protein.\n",
    "Return: A list of biological processes in which the protein is involved (biological processes are found in a subsection of the protein's \"Gene Ontology\" (GO) section)."
   ]
  },
  {
   "cell_type": "code",
   "execution_count": null,
   "metadata": {
    "collapsed": true
   },
   "outputs": [],
   "source": [
    "from Bio import ExPASy\n",
    "from Bio import SwissProt\n",
    "\n",
    "def dbpr(uni_id):\n",
    "    handle = ExPASy.get_sprot_raw(uni_id)\n",
    "    record = SwissProt.read(handle)\n",
    "    for e in record.cross_references[:]:\n",
    "        if e[0] == 'GO':\n",
    "            if e[2][0] == 'P':\n",
    "                print (e[2][2:])\n",
    "                \n",
    "uni_id = 'Q5JH32'\n",
    "dbpr(uni_id)"
   ]
  }
 ],
 "metadata": {
  "kernelspec": {
   "display_name": "Python 3",
   "language": "python",
   "name": "python3"
  },
  "language_info": {
   "codemirror_mode": {
    "name": "ipython",
    "version": 3
   },
   "file_extension": ".py",
   "mimetype": "text/x-python",
   "name": "python",
   "nbconvert_exporter": "python",
   "pygments_lexer": "ipython3",
   "version": "3.5.1"
  }
 },
 "nbformat": 4,
 "nbformat_minor": 0
}
