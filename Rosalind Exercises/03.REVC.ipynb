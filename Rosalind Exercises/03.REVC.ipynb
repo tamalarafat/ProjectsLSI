{
 "cells": [
  {
   "cell_type": "markdown",
   "metadata": {},
   "source": [
    "REVC _ Complementing a Strand of DNA\n",
    "        In DNA strings, symbols 'A' and 'T' are complements of each other, as are 'C' and 'G'.\n",
    "\n",
    "The reverse complement of a DNA string ss is the string scsc formed by reversing the symbols of ss, then taking the complement of each symbol (e.g., the reverse complement of \"GTCA\" is \"TGAC\").\n",
    "\n",
    "Given: A DNA string ss of length at most 1000 bp.\n",
    "\n",
    "Return: The reverse complement scsc of ss."
   ]
  },
  {
   "cell_type": "code",
   "execution_count": null,
   "metadata": {
    "collapsed": false
   },
   "outputs": [],
   "source": [
    "def reverse_seq(x):\n",
    "    y = ''\n",
    "    for i in x:\n",
    "        if i == 'T':\n",
    "            y = y+'A'\n",
    "        elif i == 'A':\n",
    "            y = y + 'T'\n",
    "        elif i == 'C':\n",
    "            y = y + 'G'\n",
    "        elif i == 'G':\n",
    "            y = y + 'C'\n",
    "    return y[::-1]\n",
    "\n",
    "seq = 'TGAGGAGAGTCAAAAGTCAGTTTGAGCGTGGGTCGGCTCATGTAGTGAACCCTGAAACGGACCACAAGGATTCACTAATCACTATTTAGGTGATTTTCGCCCCTAAACATAAATTCTTAAACCCTGGAACCGCCACGTACGATCCCCCTGACCTACCAATTAAACACACATAGGCCCGATGGTTTGGGGATGCTGTCATCTGTAACGTAATAGCAGCGTTATCAGTGAGCTACTCGGGACATGGCTCTGGCTACCCACAGGGCTCAGAAAAGTCTCCAAAGCGCAACTTATGTGGTAAGCACCCGGCTACGGCCTTCGCCCTCTCATAGTTCTCGCAGCTCCTCCGGAATTGGTAGAAACGGGCTAGATTCCAATAGGTTAGAGCAAATAGCCTAGTCCGCTCTACACAACGTGTGAATTTGTACCGCTAGATTCTGGCTACCACAGTAGGAGTTGGAAGCACCGGACTTATAGCTAGCATTAAATCCATAGACCCAGACTTGTCCGAGTACTTGAGACGCCTAGTATGGAACGTTGCGGCGTATTTGGGATGGTTGTTCATAAGGCCATTTTACGTAAGGCCGTCACTCCGTACCCCCTATCTACCGATTCGGTATCCACGACTTCCGAACGGTCACAGCGGGGCAGGCACGACCACAAATAGGTGGGGTGGATCCATACTCACTGCGCCGATGCGAGTAAATCCCTACTGTGAGTCTCAAATGACGAATAATTCAGTCCTGCCCTTCTTCGCCATAAAATTCGGTTACATTCGAAGCCGCGTTAGCGTTAATGGGACGTTGCGCAGGCATTATATAGGTATTAATTGTGTAATATGGGAAAGGAGTCTTTCGGTCTTTCAGAGGTTCGGCGTTTTATGACTCAGCAAAGTTTCTCGTGATCGTGTCCGTCGAATCGCATCCCATA'\n",
    "reverse_seq(seq)"
   ]
  },
  {
   "cell_type": "code",
   "execution_count": null,
   "metadata": {
    "collapsed": true
   },
   "outputs": [],
   "source": []
  }
 ],
 "metadata": {
  "kernelspec": {
   "display_name": "Python 3",
   "language": "python",
   "name": "python3"
  },
  "language_info": {
   "codemirror_mode": {
    "name": "ipython",
    "version": 3
   },
   "file_extension": ".py",
   "mimetype": "text/x-python",
   "name": "python",
   "nbconvert_exporter": "python",
   "pygments_lexer": "ipython3",
   "version": "3.5.1"
  }
 },
 "nbformat": 4,
 "nbformat_minor": 0
}
