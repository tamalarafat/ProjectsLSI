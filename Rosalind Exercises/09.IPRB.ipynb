{
 "cells": [
  {
   "cell_type": "markdown",
   "metadata": {},
   "source": [
    "IPRB - Mendel's First Law\n",
    "            Probability is the mathematical study of randomly occurring phenomena. We will model such a phenomenon with a random variable, which is simply a variable that can take a number of different distinct outcomes depending on the result of an underlying random process.\n",
    "\n",
    "For example, say that we have a bag containing 3 red balls and 2 blue balls. If we let XX represent the random variable corresponding to the color of a drawn ball, then the probability of each of the two outcomes is given by Pr(X=red)=35Pr(X=red)=35 and Pr(X=blue)=25Pr(X=blue)=25.\n",
    "\n",
    "Random variables can be combined to yield new random variables. Returning to the ball example, let YY model the color of a second ball drawn from the bag (without replacing the first ball). The probability of YY being red depends on whether the first ball was red or blue. To represent all outcomes of XX and YY, we therefore use a probability tree diagram. This branching diagram represents all possible individual probabilities for XX and YY, with outcomes at the endpoints (\"leaves\") of the tree. The probability of any outcome is given by the product of probabilities along the path from the beginning of the tree; see Figure 2 for an illustrative example.\n",
    "\n",
    "An event is simply a collection of outcomes. Because outcomes are distinct, the probability of an event can be written as the sum of the probabilities of its constituent outcomes. For our colored ball example, let AA be the event \"YY is blue.\" Pr(A)Pr(A) is equal to the sum of the probabilities of two different outcomes: Pr(X=blue and Y=blue)+Pr(X=red and Y=blue)Pr(X=blue and Y=blue)+Pr(X=red and Y=blue), or 310+110=25310+110=25 (see Figure 2 above).\n",
    "\n",
    "Given: Three positive integers kk, mm, and nn, representing a population containing k+m+nk+m+n organisms: kk individuals are homozygous dominant for a factor, mm are heterozygous, and nn are homozygous recessive.\n",
    "\n",
    "Return: The probability that two randomly selected mating organisms will produce an individual possessing a dominant allele (and thus displaying the dominant phenotype). Assume that any two organisms can mate."
   ]
  },
  {
   "cell_type": "code",
   "execution_count": null,
   "metadata": {
    "collapsed": true
   },
   "outputs": [],
   "source": [
    "def iprb(k, m, n):\n",
    "    dmnt = 0\n",
    "    recs = 0\n",
    "    \n",
    "    temp = (k + m + n)-1\n",
    "    \n",
    "    for i in range(k):\n",
    "        dmnt += 4*temp\n",
    "        temp -= 1\n",
    "    for j in range(m):\n",
    "        dmnt += 4*3/4*(temp-n)\n",
    "        recs += 4*1/4*(temp-n)\n",
    "        dmnt += 4*1/2*n\n",
    "        recs += 4*1/2*n\n",
    "        temp -= 1\n",
    "    for l in range(n):\n",
    "        recs += 4*temp\n",
    "        temp -= 1\n",
    "        \n",
    "    dmnt_per = dmnt/(dmnt + recs)\n",
    "    return dmnt_per\n",
    "\n",
    "iprb(19, 27, 21)"
   ]
  }
 ],
 "metadata": {
  "kernelspec": {
   "display_name": "Python 3",
   "language": "python",
   "name": "python3"
  },
  "language_info": {
   "codemirror_mode": {
    "name": "ipython",
    "version": 3
   },
   "file_extension": ".py",
   "mimetype": "text/x-python",
   "name": "python",
   "nbconvert_exporter": "python",
   "pygments_lexer": "ipython3",
   "version": "3.5.1"
  }
 },
 "nbformat": 4,
 "nbformat_minor": 0
}
