{
 "cells": [
  {
   "cell_type": "markdown",
   "metadata": {},
   "source": [
    "PERM - Enumerating Gene Orders\n",
    "        A permutation of length nn is an ordering of the positive integers {1,2,…,n}{1,2,…,n}. For example, π=(5,3,2,1,4)π=(5,3,2,1,4) is a permutation of length 55.\n",
    "\n",
    "Given: A positive integer n≤7n≤7.\n",
    "\n",
    "Return: The total number of permutations of length nn, followed by a list of all such permutations (in any order)."
   ]
  },
  {
   "cell_type": "code",
   "execution_count": null,
   "metadata": {
    "collapsed": false
   },
   "outputs": [],
   "source": [
    "import itertools as itr\n",
    "\n",
    "def permutation(n):\n",
    "    num_length = [i for i in range (1, n+1)]\n",
    "    res = list(itr.permutations(num_length))\n",
    "    print (len(res))\n",
    "    for r in res:\n",
    "        print (*r)\n",
    "    \n",
    "permutation(4)"
   ]
  }
 ],
 "metadata": {
  "kernelspec": {
   "display_name": "Python 3",
   "language": "python",
   "name": "python3"
  },
  "language_info": {
   "codemirror_mode": {
    "name": "ipython",
    "version": 3
   },
   "file_extension": ".py",
   "mimetype": "text/x-python",
   "name": "python",
   "nbconvert_exporter": "python",
   "pygments_lexer": "ipython3",
   "version": "3.5.1"
  }
 },
 "nbformat": 4,
 "nbformat_minor": 0
}
