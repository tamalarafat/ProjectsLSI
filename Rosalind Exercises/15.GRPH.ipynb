{
 "cells": [
  {
   "cell_type": "markdown",
   "metadata": {},
   "source": [
    "GRPH - Overlap Graphs(Graph theory)\n",
    "        A graph whose nodes have all been labeled can be represented by an adjacency list, in which each row of the list contains the two node labels corresponding to a unique edge.\n",
    "\n",
    "A directed graph (or digraph) is a graph containing directed edges, each of which has an orientation. That is, a directed edge is represented by an arrow instead of a line segment; the starting and ending nodes of an edge form its tail and head, respectively. The directed edge with tail vv and head ww is represented by (v,w)(v,w) (but not by (w,v)(w,v)). A directed loop is a directed edge of the form (v,v)(v,v).\n",
    "\n",
    "For a collection of strings and a positive integer kk, the overlap graph for the strings is a directed graph OkOk in which each string is represented by a node, and string ss is connected to string tt with a directed edge when there is a length kk suffix of ss that matches a length kk prefix of tt, as long as s≠ts≠t; we demand s≠ts≠t to prevent directed loops in the overlap graph (although directed cycles may be present).\n",
    "\n",
    "Given: A collection of DNA strings in FASTA format having total length at most 10 kbp.\n",
    "\n",
    "Return: The adjacency list corresponding to O3O3. You may return edges in any order."
   ]
  },
  {
   "cell_type": "code",
   "execution_count": null,
   "metadata": {
    "collapsed": true
   },
   "outputs": [],
   "source": [
    "def parse_fasta(fasta):\n",
    "    op = []\n",
    "    seq = fasta.strip().split('>')\n",
    "\n",
    "    for s in seq:\n",
    "        if len(s):\n",
    "            parts = s.split()\n",
    "            k = parts[0]\n",
    "            v = ''.join(parts[1:])\n",
    "            op.append((k, v))\n",
    "\n",
    "    return op\n",
    "\n",
    "def overlap_graph(fasta, n):\n",
    "    op = []\n",
    "    dna_seq = parse_fasta(fasta)\n",
    "\n",
    "    for k1, v1 in dna_seq:\n",
    "        for k2, v2 in dna_seq:\n",
    "            if k1 != k2 and v1.endswith(v2[:n]):\n",
    "                op.append((k1, k2))\n",
    "\n",
    "    return op\n",
    "\n",
    "data_set = open('rosalind_grph.txt').read()\n",
    "\n",
    "for edge in overlap_graph(data_set, 3):\n",
    "    print (*edge)"
   ]
  }
 ],
 "metadata": {
  "kernelspec": {
   "display_name": "Python 3",
   "language": "python",
   "name": "python3"
  },
  "language_info": {
   "codemirror_mode": {
    "name": "ipython",
    "version": 3
   },
   "file_extension": ".py",
   "mimetype": "text/x-python",
   "name": "python",
   "nbconvert_exporter": "python",
   "pygments_lexer": "ipython3",
   "version": "3.5.1"
  }
 },
 "nbformat": 4,
 "nbformat_minor": 0
}
