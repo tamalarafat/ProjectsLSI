{
 "cells": [
  {
   "cell_type": "markdown",
   "metadata": {},
   "source": [
    "SUBS - Finding a Motif in DNA\n",
    "        Given two strings ss and tt, tt is a substring of ss if tt is contained as a contiguous collection of symbols in ss (as a result, tt must be no longer than ss).\n",
    "\n",
    "The position of a symbol in a string is the total number of symbols found to its left, including itself (e.g., the positions of all occurrences of 'U' in \"AUGCUUCAGAAAGGUCUUACG\" are 2, 5, 6, 15, 17, and 18). The symbol at position ii of ss is denoted by s[i]s[i].\n",
    "\n",
    "A substring of ss can be represented as s[j:k]s[j:k], where jj and kk represent the starting and ending positions of the substring in ss; for example, if ss = \"AUGCUUCAGAAAGGUCUUACG\", then s[2:5]s[2:5] = \"UGCU\".\n",
    "\n",
    "The location of a substring s[j:k]s[j:k] is its beginning position jj; note that tt will have multiple locations in ss if it occurs more than once as a substring of ss (see the Sample below).\n",
    "\n",
    "Given: Two DNA strings ss and tt (each of length at most 1 kbp).\n",
    "\n",
    "Return: All locations of tt as a substring of ss."
   ]
  },
  {
   "cell_type": "code",
   "execution_count": null,
   "metadata": {
    "collapsed": true
   },
   "outputs": [],
   "source": [
    "from Bio import motifs\n",
    "from Bio.Seq import Seq\n",
    "import Bio.Alphabet\n",
    "\n",
    "fin = open(\"rosalind_subs.txt\", 'r')\n",
    "m_seq = fin.readline().rstrip()\n",
    "motif = fin.readline().rstrip()\n",
    "fin.close()\n",
    "\n",
    "inst = [Seq(motif)]\n",
    "m_motif = motifs.create(inst)\n",
    "\n",
    "seq = Seq(raw_seq, Bio.Alphabet.IUPAC.unambiguous_dna)\n",
    "\n",
    "locs = []\n",
    "for pos in m_motif.inst.search(seq):\n",
    "    locs.append(pos[0]+1)\n",
    "    \n",
    "print (*locs)"
   ]
  }
 ],
 "metadata": {
  "kernelspec": {
   "display_name": "Python 3",
   "language": "python",
   "name": "python3"
  },
  "language_info": {
   "codemirror_mode": {
    "name": "ipython",
    "version": 3
   },
   "file_extension": ".py",
   "mimetype": "text/x-python",
   "name": "python",
   "nbconvert_exporter": "python",
   "pygments_lexer": "ipython3",
   "version": "3.5.1"
  }
 },
 "nbformat": 4,
 "nbformat_minor": 0
}
