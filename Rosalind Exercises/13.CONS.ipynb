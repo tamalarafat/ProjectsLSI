{
 "cells": [
  {
   "cell_type": "markdown",
   "metadata": {},
   "source": [
    "CONS- Consensus and Profile\n",
    "        Finding a Most Likely Common Ancestor\n",
    "        A matrix is a rectangular table of values divided into rows and columns. An m×nm×n matrix has mm rows and nn columns. Given a matrix AA, we write Ai,jAi,j to indicate the value found at the intersection of row ii and column jj.\n",
    "\n",
    "Say that we have a collection of DNA strings, all having the same length nn. Their profile matrix is a 4×n4×n matrix PP in which P1,jP1,j represents the number of times that 'A' occurs in the jjth position of one of the strings, P2,jP2,j represents the number of times that C occurs in the jjth position, and so on (see below).\n",
    "\n",
    "A consensus string cc is a string of length nn formed from our collection by taking the most common symbol at each position; the jjth symbol of cc therefore corresponds to the symbol having the maximum value in the jj-th column of the profile matrix. Of course, there may be more than one most common symbol, leading to multiple possible consensus strings."
   ]
  },
  {
   "cell_type": "code",
   "execution_count": null,
   "metadata": {
    "collapsed": false
   },
   "outputs": [],
   "source": [
    "from collections import OrderedDict\n",
    "\n",
    "def crt_fasta(file): \n",
    "    with open(infile) as fin:        \n",
    "        parts = None        \n",
    "        while True:            \n",
    "            line = fin.readline()           \n",
    "            if not line:               \n",
    "                if parts is not None:\n",
    "                    yield ''.join(parts)                \n",
    "                break            \n",
    "            if line.startswith('>'):                \n",
    "                if parts is not None:\n",
    "                    yield ''.join(parts)                \n",
    "                parts = []\n",
    "            else:                \n",
    "                parts.append(line.strip())\n",
    "                \n",
    "def matrix_profile(seqs):   \n",
    "    mat_prf = OrderedDict.fromkeys(('A', 'C', 'G', 'T',))    \n",
    "    for seq in seqs:        \n",
    "        if not mat_prf['A']:\n",
    "            for key in mat_prf:\n",
    "                mat_prf[key] = [0] * len(seq)        \n",
    "        for index, char in enumerate(seq):            \n",
    "            mat_prf[char][index] += 1\n",
    "   \n",
    "    return mat_prf\n",
    "\n",
    "def con_str(mat_prf):    \n",
    "    op = []    \n",
    "    for index in range(len(mat_prf['A'])):\n",
    "        max_repeats, max_char = 0, ''              # initialize/reset counters\n",
    "        for char in mat_prf:                       # now cycle over the keys for this index\n",
    "            if mat_prf[char][index] >= max_repeats:\n",
    "                max_repeats = mat_prf[char][index]\n",
    "                max_char = char\n",
    "        op.append(max_char)                        # append largest-counted char to result\n",
    "   \n",
    "    return ''.join(op)                             # return all the chars as a single string\n",
    "\n",
    "file_name = 'rosalind_cons.txt'\n",
    "\n",
    "m_fasta_seq = crt_fasta(file_name)\n",
    "mat_profile = matrix_profile(m_fasta_seq)\n",
    "concensus_string = con_str(mat_profile)    \n",
    "print(concensus_string)\n",
    "    \n",
    "for key, chars in mat_profile.items():\n",
    "    print('{}: {}'.format(key, ' '.join(str(char) for char in chars)))\n"
   ]
  }
 ],
 "metadata": {
  "anaconda-cloud": {},
  "kernelspec": {
   "display_name": "Python 3",
   "language": "python",
   "name": "python3"
  },
  "language_info": {
   "codemirror_mode": {
    "name": "ipython",
    "version": 3
   },
   "file_extension": ".py",
   "mimetype": "text/x-python",
   "name": "python",
   "nbconvert_exporter": "python",
   "pygments_lexer": "ipython3",
   "version": "3.5.1"
  }
 },
 "nbformat": 4,
 "nbformat_minor": 0
}
